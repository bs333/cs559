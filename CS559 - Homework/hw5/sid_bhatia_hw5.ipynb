{
 "cells": [
  {
   "cell_type": "markdown",
   "metadata": {},
   "source": [
    "### CS559 - Homework #5"
   ]
  },
  {
   "cell_type": "markdown",
   "metadata": {},
   "source": [
    "**Author**: Sid Bhatia\n",
    "\n",
    "**Date**: November 15, 2024\n",
    "\n",
    "**Pledge**: I pledge my honor that I have abided by the Stevens Honor System.\n",
    "\n",
    "**Professor**: Dr. In Suk Jang"
   ]
  },
  {
   "cell_type": "markdown",
   "metadata": {},
   "source": [
    "#### 1. Unsupervised Learning [65 pts]"
   ]
  },
  {
   "cell_type": "markdown",
   "metadata": {},
   "source": [
    "Supervised learning techniques cannot be applied when a given data set does not have feature names or\n",
    "unknown targets. Instead, we can apply unsupervised learning techniques such as clustering analysis or\n",
    "dimensionality reduction to learn about the hidden structures of the data set. Sometimes, such methods\n",
    "can be applied in EDA or preprocessing the training data to build a supervised learning model. In this\n",
    "question, we will practice implementing, fitting, and analyzing unsupervised learning algorithms."
   ]
  },
  {
   "cell_type": "markdown",
   "metadata": {},
   "source": [
    "### 1.1 Clustering Analysis [40 pts]"
   ]
  },
  {
   "cell_type": "markdown",
   "metadata": {},
   "source": [
    "a. Load the provided data - autompg.csv. The data contains seven columns; the target is mpg.\n",
    "This data set can be used for both classification and regression problems."
   ]
  },
  {
   "cell_type": "code",
   "execution_count": 3,
   "metadata": {},
   "outputs": [
    {
     "name": "stdout",
     "output_type": "stream",
     "text": [
      "Dataset Preview:\n",
      "    mpg  cylinders  displacement  horsepower  weight  acceleration  model-year\n",
      "0  18.0          8         307.0       130.0    3504          12.0          70\n",
      "1  15.0          8         350.0       165.0    3693          11.5          70\n",
      "2  18.0          8         318.0       150.0    3436          11.0          70\n",
      "3  16.0          8         304.0       150.0    3433          12.0          70\n",
      "4  17.0          8         302.0       140.0    3449          10.5          70\n",
      "\n",
      "Dataset Information:\n",
      "<class 'pandas.core.frame.DataFrame'>\n",
      "RangeIndex: 398 entries, 0 to 397\n",
      "Data columns (total 7 columns):\n",
      " #   Column        Non-Null Count  Dtype  \n",
      "---  ------        --------------  -----  \n",
      " 0   mpg           398 non-null    float64\n",
      " 1   cylinders     398 non-null    int64  \n",
      " 2   displacement  398 non-null    float64\n",
      " 3   horsepower    396 non-null    float64\n",
      " 4   weight        398 non-null    int64  \n",
      " 5   acceleration  398 non-null    float64\n",
      " 6   model-year    398 non-null    int64  \n",
      "dtypes: float64(4), int64(3)\n",
      "memory usage: 21.9 KB\n"
     ]
    }
   ],
   "source": [
    "import pandas as pd\n",
    "\n",
    "# Load the dataset\n",
    "file_path = 'autompg.csv'\n",
    "auto_mpg_df = pd.read_csv(file_path)\n",
    "\n",
    "print(\"Dataset Preview:\")\n",
    "print(auto_mpg_df.head())\n",
    "\n",
    "print(\"\\nDataset Information:\")\n",
    "auto_mpg_df.info()"
   ]
  },
  {
   "cell_type": "code",
   "execution_count": null,
   "metadata": {},
   "outputs": [
    {
     "name": "stdout",
     "output_type": "stream",
     "text": [
      "\n",
      "Summary Statistics:\n",
      "              mpg   cylinders  displacement  horsepower       weight   \n",
      "count  398.000000  398.000000    398.000000  396.000000   398.000000  \\\n",
      "mean    23.514573    5.454774    193.425879  104.189394  2970.424623   \n",
      "std      7.815984    1.701004    104.269838   38.402030   846.841774   \n",
      "min      9.000000    3.000000     68.000000   46.000000  1613.000000   \n",
      "25%     17.500000    4.000000    104.250000   75.000000  2223.750000   \n",
      "50%     23.000000    4.000000    148.500000   92.000000  2803.500000   \n",
      "75%     29.000000    8.000000    262.000000  125.000000  3608.000000   \n",
      "max     46.600000    8.000000    455.000000  230.000000  5140.000000   \n",
      "\n",
      "       acceleration  model-year  \n",
      "count    398.000000  398.000000  \n",
      "mean      15.568090   76.010050  \n",
      "std        2.757689    3.697627  \n",
      "min        8.000000   70.000000  \n",
      "25%       13.825000   73.000000  \n",
      "50%       15.500000   76.000000  \n",
      "75%       17.175000   79.000000  \n",
      "max       24.800000   82.000000  \n",
      "\n",
      "Missing Values:\n",
      "mpg             0\n",
      "cylinders       0\n",
      "displacement    0\n",
      "horsepower      2\n",
      "weight          0\n",
      "acceleration    0\n",
      "model-year      0\n",
      "dtype: int64\n",
      "\n",
      "Column Names:\n",
      "Index(['mpg', 'cylinders', 'displacement', 'horsepower', 'weight',\n",
      "       'acceleration', 'model-year'],\n",
      "      dtype='object')\n"
     ]
    }
   ],
   "source": [
    "print(\"\\nSummary Statistics:\")\n",
    "print(auto_mpg_df.describe())\n",
    "\n",
    "print(\"\\nMissing Values:\")\n",
    "print(auto_mpg_df.isnull().sum())"
   ]
  },
  {
   "cell_type": "code",
   "execution_count": 5,
   "metadata": {},
   "outputs": [
    {
     "name": "stdout",
     "output_type": "stream",
     "text": [
      "\n",
      "Column Names:\n",
      "Index(['mpg', 'cylinders', 'displacement', 'horsepower', 'weight',\n",
      "       'acceleration', 'model-year'],\n",
      "      dtype='object')\n"
     ]
    }
   ],
   "source": [
    "print(\"\\nColumn Names:\")\n",
    "print(auto_mpg_df.columns)"
   ]
  },
  {
   "cell_type": "markdown",
   "metadata": {},
   "source": [
    "b. [5 pts] Relabel mpg into three ordinal domains [good (2), average (1), bad (0)] by calculating\n",
    "the quantiles using numpy.quantitle. For other continuous columns, convert to four ordinal\n",
    "categorical features as (4) - high, (3) - good, (2) - okay, (1) - poor."
   ]
  },
  {
   "cell_type": "code",
   "execution_count": 6,
   "metadata": {},
   "outputs": [],
   "source": [
    "import numpy as np\n",
    "\n",
    "mpg_quantiles = np.quantile(auto_mpg_df['mpg'], [0.33, 0.67])\n",
    "\n",
    "def relabel_mpg(value):\n",
    "    if value <= mpg_quantiles[0]:\n",
    "        return 0  # bad\n",
    "    elif value <= mpg_quantiles[1]:\n",
    "        return 1  # average\n",
    "    else:\n",
    "        return 2  # good\n",
    "\n",
    "auto_mpg_df['mpg_category'] = auto_mpg_df['mpg'].apply(relabel_mpg)\n",
    "\n",
    "continuous_columns = auto_mpg_df.select_dtypes(include=['float64', 'int64']).columns.drop('mpg')\n",
    "\n",
    "def relabel_continuous(value, quantiles):\n",
    "    if value <= quantiles[0]:\n",
    "        return 1  # poor\n",
    "    elif value <= quantiles[1]:\n",
    "        return 2  # okay\n",
    "    elif value <= quantiles[2]:\n",
    "        return 3  # good\n",
    "    else:\n",
    "        return 4  # high\n",
    "\n",
    "for column in continuous_columns:\n",
    "    quantiles = np.quantile(auto_mpg_df[column], [0.25, 0.5, 0.75])\n",
    "    auto_mpg_df[f'{column}_category'] = auto_mpg_df[column].apply(lambda x: relabel_continuous(x, quantiles))"
   ]
  },
  {
   "cell_type": "code",
   "execution_count": 9,
   "metadata": {},
   "outputs": [
    {
     "name": "stdout",
     "output_type": "stream",
     "text": [
      "\n",
      "Updated Dataset with Ordinal Categories:\n",
      "    mpg  cylinders  displacement  horsepower  weight  acceleration   \n",
      "0  18.0          8         307.0       130.0    3504          12.0  \\\n",
      "1  15.0          8         350.0       165.0    3693          11.5   \n",
      "2  18.0          8         318.0       150.0    3436          11.0   \n",
      "3  16.0          8         304.0       150.0    3433          12.0   \n",
      "4  17.0          8         302.0       140.0    3449          10.5   \n",
      "\n",
      "   model-year  mpg_category  cylinders_category  displacement_category   \n",
      "0          70             0                   3                      4  \\\n",
      "1          70             0                   3                      4   \n",
      "2          70             0                   3                      4   \n",
      "3          70             0                   3                      4   \n",
      "4          70             0                   3                      4   \n",
      "\n",
      "   horsepower_category  weight_category  acceleration_category   \n",
      "0                    4                3                      1  \\\n",
      "1                    4                4                      1   \n",
      "2                    4                3                      1   \n",
      "3                    4                3                      1   \n",
      "4                    4                3                      1   \n",
      "\n",
      "   model-year_category  mpg_category_category  \n",
      "0                    1                      1  \n",
      "1                    1                      1  \n",
      "2                    1                      1  \n",
      "3                    1                      1  \n",
      "4                    1                      1  \n"
     ]
    }
   ],
   "source": [
    "print(\"\\nUpdated Dataset with Ordinal Categories:\")\n",
    "print(auto_mpg_df.head())"
   ]
  },
  {
   "cell_type": "code",
   "execution_count": 12,
   "metadata": {},
   "outputs": [
    {
     "name": "stdout",
     "output_type": "stream",
     "text": [
      "\n",
      "Cleaned Dataset:\n",
      "    mpg  cylinders  displacement  horsepower  weight  acceleration   \n",
      "0  18.0          8         307.0       130.0    3504          12.0  \\\n",
      "1  15.0          8         350.0       165.0    3693          11.5   \n",
      "2  18.0          8         318.0       150.0    3436          11.0   \n",
      "3  16.0          8         304.0       150.0    3433          12.0   \n",
      "4  17.0          8         302.0       140.0    3449          10.5   \n",
      "\n",
      "   model-year  mpg_category  cylinders_category  displacement_category   \n",
      "0          70             0                   3                      4  \\\n",
      "1          70             0                   3                      4   \n",
      "2          70             0                   3                      4   \n",
      "3          70             0                   3                      4   \n",
      "4          70             0                   3                      4   \n",
      "\n",
      "   horsepower_category  weight_category  acceleration_category   \n",
      "0                    4                3                      1  \\\n",
      "1                    4                4                      1   \n",
      "2                    4                3                      1   \n",
      "3                    4                3                      1   \n",
      "4                    4                3                      1   \n",
      "\n",
      "   model-year_category  \n",
      "0                    1  \n",
      "1                    1  \n",
      "2                    1  \n",
      "3                    1  \n",
      "4                    1  \n"
     ]
    }
   ],
   "source": [
    "auto_mpg_df = auto_mpg_df.drop(columns=['mpg_category_category'])\n",
    "\n",
    "print(\"\\nCleaned Dataset:\")\n",
    "print(auto_mpg_df.head())"
   ]
  },
  {
   "cell_type": "code",
   "execution_count": 13,
   "metadata": {},
   "outputs": [
    {
     "name": "stdout",
     "output_type": "stream",
     "text": [
      "MPG Quantiles (33%, 67%): [19. 27.]\n",
      "    mpg  mpg_category\n",
      "0  18.0             0\n",
      "1  15.0             0\n",
      "2  18.0             0\n",
      "3  16.0             0\n",
      "4  17.0             0\n",
      "5  15.0             0\n",
      "6  14.0             0\n",
      "7  14.0             0\n",
      "8  14.0             0\n",
      "9  15.0             0\n"
     ]
    }
   ],
   "source": [
    "print(\"MPG Quantiles (33%, 67%):\", mpg_quantiles)\n",
    "\n",
    "print(auto_mpg_df[['mpg', 'mpg_category']].head(10))"
   ]
  },
  {
   "cell_type": "code",
   "execution_count": null,
   "metadata": {},
   "outputs": [
    {
     "name": "stdout",
     "output_type": "stream",
     "text": [
      "\n",
      "Rows with mpg_category == 1 (average):\n",
      "     mpg  cylinders  displacement  horsepower  weight  acceleration   \n",
      "14  24.0          4         113.0        95.0    2372          15.0  \\\n",
      "15  22.0          6         198.0        95.0    2833          15.5   \n",
      "17  21.0          6         200.0        85.0    2587          16.0   \n",
      "18  27.0          4          97.0        88.0    2130          14.5   \n",
      "19  26.0          4          97.0        46.0    1835          20.5   \n",
      "\n",
      "    model-year  mpg_category  cylinders_category  displacement_category   \n",
      "14          70             1                   1                      2  \\\n",
      "15          70             1                   3                      3   \n",
      "17          70             1                   3                      3   \n",
      "18          70             1                   1                      1   \n",
      "19          70             1                   1                      1   \n",
      "\n",
      "    horsepower_category  weight_category  acceleration_category   \n",
      "14                    4                2                      2  \\\n",
      "15                    4                3                      2   \n",
      "17                    4                2                      3   \n",
      "18                    4                1                      2   \n",
      "19                    4                1                      4   \n",
      "\n",
      "    model-year_category  \n",
      "14                    1  \n",
      "15                    1  \n",
      "17                    1  \n",
      "18                    1  \n",
      "19                    1  \n",
      "\n",
      "Rows with mpg_category == 2 (good):\n",
      "     mpg  cylinders  displacement  horsepower  weight  acceleration   \n",
      "30  28.0          4         140.0        90.0    2264          15.5  \\\n",
      "50  28.0          4         116.0        90.0    2123          14.0   \n",
      "51  30.0          4          79.0        70.0    2074          19.5   \n",
      "52  30.0          4          88.0        76.0    2065          14.5   \n",
      "53  31.0          4          71.0        65.0    1773          19.0   \n",
      "\n",
      "    model-year  mpg_category  cylinders_category  displacement_category   \n",
      "30          71             2                   1                      2  \\\n",
      "50          71             2                   1                      2   \n",
      "51          71             2                   1                      1   \n",
      "52          71             2                   1                      1   \n",
      "53          71             2                   1                      1   \n",
      "\n",
      "    horsepower_category  weight_category  acceleration_category   \n",
      "30                    4                2                      2  \\\n",
      "50                    4                1                      2   \n",
      "51                    4                1                      4   \n",
      "52                    4                1                      2   \n",
      "53                    4                1                      4   \n",
      "\n",
      "    model-year_category  \n",
      "30                    1  \n",
      "50                    1  \n",
      "51                    1  \n",
      "52                    1  \n",
      "53                    1  \n"
     ]
    }
   ],
   "source": [
    "print(\"\\nRows with mpg_category == 1 (average):\")\n",
    "print(auto_mpg_df[auto_mpg_df['mpg_category'] == 1].head())"
   ]
  },
  {
   "cell_type": "code",
   "execution_count": 15,
   "metadata": {},
   "outputs": [
    {
     "name": "stdout",
     "output_type": "stream",
     "text": [
      "\n",
      "Rows with mpg_category == 2 (good):\n",
      "     mpg  cylinders  displacement  horsepower  weight  acceleration   \n",
      "30  28.0          4         140.0        90.0    2264          15.5  \\\n",
      "50  28.0          4         116.0        90.0    2123          14.0   \n",
      "51  30.0          4          79.0        70.0    2074          19.5   \n",
      "52  30.0          4          88.0        76.0    2065          14.5   \n",
      "53  31.0          4          71.0        65.0    1773          19.0   \n",
      "\n",
      "    model-year  mpg_category  cylinders_category  displacement_category   \n",
      "30          71             2                   1                      2  \\\n",
      "50          71             2                   1                      2   \n",
      "51          71             2                   1                      1   \n",
      "52          71             2                   1                      1   \n",
      "53          71             2                   1                      1   \n",
      "\n",
      "    horsepower_category  weight_category  acceleration_category   \n",
      "30                    4                2                      2  \\\n",
      "50                    4                1                      2   \n",
      "51                    4                1                      4   \n",
      "52                    4                1                      2   \n",
      "53                    4                1                      4   \n",
      "\n",
      "    model-year_category  \n",
      "30                    1  \n",
      "50                    1  \n",
      "51                    1  \n",
      "52                    1  \n",
      "53                    1  \n"
     ]
    }
   ],
   "source": [
    "print(\"\\nRows with mpg_category == 2 (good):\")\n",
    "print(auto_mpg_df[auto_mpg_df['mpg_category'] == 2].head())"
   ]
  },
  {
   "cell_type": "markdown",
   "metadata": {},
   "source": [
    "c. [10 pts] Implement a myKmean(X, k, iter) algorithm as a function (not a class) using only NumPy.\n",
    "The parameter X is the data, k is the number of clusters, and iter is the number of iterations. The\n",
    "function returns the final cluster labels, the centroid of clusters, and the total variance of the\n",
    "algorithm."
   ]
  },
  {
   "cell_type": "code",
   "execution_count": 16,
   "metadata": {},
   "outputs": [],
   "source": [
    "def myKmean(X, k, iter):\n",
    "    np.random.seed(42)\n",
    "\n",
    "    initial_indices = np.random.choice(X.shape[0], size=k, replace=False)\n",
    "    centroids = X[initial_indices]\n",
    "    \n",
    "    for _ in range(iter):\n",
    "        distances = np.linalg.norm(X[:, np.newaxis] - centroids, axis=2)\n",
    "        labels = np.argmin(distances, axis=1)\n",
    "        \n",
    "        new_centroids = np.array([X[labels == i].mean(axis=0) if len(X[labels == i]) > 0 else centroids[i]\n",
    "                                   for i in range(k)])\n",
    "        \n",
    "        if np.allclose(centroids, new_centroids):\n",
    "            break\n",
    "        centroids = new_centroids\n",
    "    \n",
    "    total_variance = sum(np.sum((X[labels == i] - centroids[i]) ** 2) for i in range(k))\n",
    "    \n",
    "    return labels, centroids, total_variance"
   ]
  },
  {
   "cell_type": "markdown",
   "metadata": {},
   "source": [
    "d. [10 pts] Determine the appropriate k value of the new data set using myKmean. Show that the\n",
    "total variance converges as k increases."
   ]
  },
  {
   "cell_type": "code",
   "execution_count": null,
   "metadata": {},
   "outputs": [
    {
     "name": "stdout",
     "output_type": "stream",
     "text": [
      "k=1, Total Variance=2679.65\n",
      "k=2, Total Variance=1299.39\n",
      "k=3, Total Variance=1041.71\n",
      "k=4, Total Variance=790.36\n",
      "k=5, Total Variance=721.94\n",
      "k=6, Total Variance=642.62\n",
      "k=7, Total Variance=611.70\n",
      "k=8, Total Variance=539.92\n",
      "k=9, Total Variance=492.19\n",
      "k=10, Total Variance=480.36\n"
     ]
    },
    {
     "data": {
      "image/png": "[encoded data removed]",
      "text/plain": [
       "<Figure size 800x500 with 1 Axes>"
      ]
     },
     "metadata": {},
     "output_type": "display_data"
    }
   ],
   "source": [
    "ordinal_columns = [col for col in auto_mpg_df.columns if '_category' in col]\n",
    "X = auto_mpg_df[ordinal_columns].to_numpy()\n",
    "\n",
    "k_values, variances = [], []\n",
    "\n",
    "for k in range(1, 11):\n",
    "    _, _, total_variance = myKmean(X, k, iter=10)\n",
    "    k_values.append(k)\n",
    "    variances.append(total_variance)\n",
    "    print(f\"k={k}, Total Variance={total_variance:.2f}\")\n",
    "\n",
    "import matplotlib.pyplot as plt\n",
    "\n",
    "plt.figure(figsize=(8, 5))\n",
    "plt.plot(k_values, variances, marker='o')\n",
    "plt.title(\"Elbow Method to Determine Optimal k\")\n",
    "plt.xlabel(\"Number of Clusters (k)\")\n",
    "plt.ylabel(\"Total Variance\")\n",
    "plt.xticks(k_values)\n",
    "plt.grid()\n",
    "plt.show()"
   ]
  }
 ],
 "metadata": {
  "kernelspec": {
   "display_name": "Python 3",
   "language": "python",
   "name": "python3"
  },
  "language_info": {
   "codemirror_mode": {
    "name": "ipython",
    "version": 3
   },
   "file_extension": ".py",
   "mimetype": "text/x-python",
   "name": "python",
   "nbconvert_exporter": "python",
   "pygments_lexer": "ipython3",
   "version": "3.11.5"
  }
 },
 "nbformat": 4,
 "nbformat_minor": 2
}
