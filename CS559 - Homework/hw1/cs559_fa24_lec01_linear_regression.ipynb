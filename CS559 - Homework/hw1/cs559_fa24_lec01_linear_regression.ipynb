{
 "cells": [
  {
   "cell_type": "code",
   "execution_count": 1,
   "metadata": {},
   "outputs": [],
   "source": [
    "import pandas as pd\n",
    "import numpy as np\n",
    "import matplotlib.pyplot as plt"
   ]
  },
  {
   "cell_type": "code",
   "execution_count": 2,
   "metadata": {},
   "outputs": [],
   "source": [
    "X = np.array([0.028, 0.182, 0.257, 0.505, 0.650, 0.665, 0.750, 0.852, 0.879, 0.988])\n",
    "w0 = 1.091\n",
    "w1 = 0.408\n",
    "Y = np.array([1.022, 1.310, 1.115, 1.269, 1.369, 1.395, 1.476, 1.466, 1.406, 1.429])\n",
    "Y_pred = w0 + w1 * X"
   ]
  },
  {
   "cell_type": "code",
   "execution_count": 3,
   "metadata": {},
   "outputs": [],
   "source": [
    "X0 = np.ones(10)\n",
    "X1 = np.column_stack((X0,X))"
   ]
  },
  {
   "cell_type": "code",
   "execution_count": 4,
   "metadata": {},
   "outputs": [
    {
     "name": "stdout",
     "output_type": "stream",
     "text": [
      "[1.09089003 0.4079395 ]\n"
     ]
    }
   ],
   "source": [
    "w=np.matmul(np.matmul(np.linalg.inv(np.matmul(np.transpose(X1),X1)),np.transpose(X1)),Y)\n",
    "print(w)"
   ]
  },
  {
   "cell_type": "code",
   "execution_count": 5,
   "metadata": {},
   "outputs": [
    {
     "name": "stdout",
     "output_type": "stream",
     "text": [
      "w0 = 1.0906, w1 = 0.4084\n"
     ]
    }
   ],
   "source": [
    "w0, w1 = 0, 0\n",
    "n = len(X)\n",
    "eta = 0.6\n",
    "for i in range(70):\n",
    "    h = w1 * X + w0\n",
    "    dw1 = -(2 * (X.T).dot(Y - h))/n\n",
    "    dw0 = -2 * np.sum(Y-h)/n\n",
    "    w1 = w1 - eta * dw1\n",
    "    w0 = w0 - eta * dw0\n",
    "print(f'w0 = {w0:.4f}, w1 = {w1:.4f}')"
   ]
  },
  {
   "cell_type": "code",
   "execution_count": 6,
   "metadata": {},
   "outputs": [],
   "source": [
    "N = 10\n",
    "x1 = np.array([6.11, 3.76, 6.98, 5.96, 5.06, 4.32, 5.84, 6.57, 1.63, 6.05])\n",
    "x2 = np.array([2.36, 5.98, 0.68, 4.61, 8.94, 7.12, 1.61, 2.87, 4.17, 2.37])\n",
    "y = np.array([5.35, -9.74, 12.89, -1.06, -15.95, -12.12, 7.23, 5.20, -8.71, 5.68])\n",
    "X = np.column_stack([x1,x2])"
   ]
  },
  {
   "cell_type": "code",
   "execution_count": 7,
   "metadata": {},
   "outputs": [
    {
     "name": "stdout",
     "output_type": "stream",
     "text": [
      "MAE = 0.1421, MSE = 0.0388, RMSE = 0.1971\n",
      "w = [ 2.046 -2.975]\n",
      "w0 = 0.292\n",
      "R^2: 0.99955\n"
     ]
    }
   ],
   "source": [
    "from sklearn.linear_model import LinearRegression\n",
    "from sklearn.metrics import mean_absolute_error, mean_squared_error\n",
    "\n",
    "model = LinearRegression()\n",
    "model.fit(X, y)\n",
    "h_hat = model.predict(X)\n",
    "mae = mean_absolute_error(y, h_hat)\n",
    "mse = mean_squared_error(y, h_hat)\n",
    "rmse = np.sqrt(mse)\n",
    "print(f'MAE = {mae:.4f}, MSE = {mse:.4f}, RMSE = {rmse:.4f}')\n",
    "print(\"w = \" + str(np.round(model.coef_, 3)))\n",
    "print(\"w0 = \" + str(np.round(model.intercept_, 3)))\n",
    "print(\"R^2: %.5f\" % model.score(X,y))"
   ]
  },
  {
   "cell_type": "code",
   "execution_count": 8,
   "metadata": {},
   "outputs": [
    {
     "name": "stdout",
     "output_type": "stream",
     "text": [
      "x1 covariance:\n",
      " [[1.         0.71886325]\n",
      " [0.71886325 1.        ]] \n",
      "\n",
      "x2 covariance:\n",
      " [[ 1.         -0.95595136]\n",
      " [-0.95595136  1.        ]] \n",
      "\n",
      "X1: spearman r=0.7189, kendall p=0.0191\n",
      "X2: spearman r=-0.9560, kendall p=0.0000\n"
     ]
    }
   ],
   "source": [
    "print(\"x1 covariance:\\n\", np.corrcoef(x1, y),\"\\n\")\n",
    "print(\"x2 covariance:\\n\", np.corrcoef(x2, y),\"\\n\")\n",
    "\n",
    "import scipy.stats\n",
    "r, p = scipy.stats.pearsonr(x1, y)\n",
    "print(f'X1: spearman r={r:.4f}, kendall p={p:.4f}')\n",
    "r, p = scipy.stats.pearsonr(x2, y)\n",
    "print(f'X2: spearman r={r:.4f}, kendall p={p:.4f}')"
   ]
  },
  {
   "cell_type": "code",
   "execution_count": 9,
   "metadata": {},
   "outputs": [
    {
     "data": {
      "text/html": [
       "<style type=\"text/css\">\n",
       "#T_fc0fa_row0_col0, #T_fc0fa_row1_col1, #T_fc0fa_row2_col2 {\n",
       "  background-color: #b40426;\n",
       "  color: #f1f1f1;\n",
       "}\n",
       "#T_fc0fa_row0_col1 {\n",
       "  background-color: #89acfd;\n",
       "  color: #000000;\n",
       "}\n",
       "#T_fc0fa_row0_col2 {\n",
       "  background-color: #e26952;\n",
       "  color: #f1f1f1;\n",
       "}\n",
       "#T_fc0fa_row1_col0, #T_fc0fa_row1_col2, #T_fc0fa_row2_col1 {\n",
       "  background-color: #3b4cc0;\n",
       "  color: #f1f1f1;\n",
       "}\n",
       "#T_fc0fa_row2_col0 {\n",
       "  background-color: #ec7f63;\n",
       "  color: #f1f1f1;\n",
       "}\n",
       "</style>\n",
       "<table id=\"T_fc0fa\">\n",
       "  <thead>\n",
       "    <tr>\n",
       "      <th class=\"blank level0\" >&nbsp;</th>\n",
       "      <th id=\"T_fc0fa_level0_col0\" class=\"col_heading level0 col0\" >x1</th>\n",
       "      <th id=\"T_fc0fa_level0_col1\" class=\"col_heading level0 col1\" >x2</th>\n",
       "      <th id=\"T_fc0fa_level0_col2\" class=\"col_heading level0 col2\" >y</th>\n",
       "    </tr>\n",
       "  </thead>\n",
       "  <tbody>\n",
       "    <tr>\n",
       "      <th id=\"T_fc0fa_level0_row0\" class=\"row_heading level0 row0\" >x1</th>\n",
       "      <td id=\"T_fc0fa_row0_col0\" class=\"data row0 col0\" >1.000000</td>\n",
       "      <td id=\"T_fc0fa_row0_col1\" class=\"data row0 col1\" >-0.483996</td>\n",
       "      <td id=\"T_fc0fa_row0_col2\" class=\"data row0 col2\" >0.718863</td>\n",
       "    </tr>\n",
       "    <tr>\n",
       "      <th id=\"T_fc0fa_level0_row1\" class=\"row_heading level0 row1\" >x2</th>\n",
       "      <td id=\"T_fc0fa_row1_col0\" class=\"data row1 col0\" >-0.483996</td>\n",
       "      <td id=\"T_fc0fa_row1_col1\" class=\"data row1 col1\" >1.000000</td>\n",
       "      <td id=\"T_fc0fa_row1_col2\" class=\"data row1 col2\" >-0.955951</td>\n",
       "    </tr>\n",
       "    <tr>\n",
       "      <th id=\"T_fc0fa_level0_row2\" class=\"row_heading level0 row2\" >y</th>\n",
       "      <td id=\"T_fc0fa_row2_col0\" class=\"data row2 col0\" >0.718863</td>\n",
       "      <td id=\"T_fc0fa_row2_col1\" class=\"data row2 col1\" >-0.955951</td>\n",
       "      <td id=\"T_fc0fa_row2_col2\" class=\"data row2 col2\" >1.000000</td>\n",
       "    </tr>\n",
       "  </tbody>\n",
       "</table>\n"
      ],
      "text/plain": [
       "<pandas.io.formats.style.Styler at 0x127a31810>"
      ]
     },
     "execution_count": 9,
     "metadata": {},
     "output_type": "execute_result"
    }
   ],
   "source": [
    "import pandas as pd\n",
    "df = pd.DataFrame({'x1':x1, 'x2': x2, 'y': y})\n",
    "corr = df.corr()\n",
    "corr.style.background_gradient(cmap='coolwarm')"
   ]
  },
  {
   "cell_type": "code",
   "execution_count": 10,
   "metadata": {},
   "outputs": [
    {
     "data": {
      "image/png": "[encoded data removed]",
      "text/plain": [
       "<Figure size 1000x500 with 2 Axes>"
      ]
     },
     "metadata": {},
     "output_type": "display_data"
    }
   ],
   "source": [
    "import seaborn as sns\n",
    "plt.figure(figsize=(10,5))\n",
    "sns.set_theme(style='white')\n",
    "heatmap = sns.heatmap(corr, annot=True, cmap='Blues', fmt='.3g')"
   ]
  },
  {
   "cell_type": "code",
   "execution_count": 11,
   "metadata": {},
   "outputs": [],
   "source": [
    "class Linear_regression():\n",
    "    \n",
    "    def __init__(self, learning_rate, iterations):\n",
    "        self.learning_rate = learning_rate\n",
    "        self.iterations = iterations\n",
    "    \n",
    "    # Model Training Function\n",
    "    def fit( self, X, Y):\n",
    "        \n",
    "        # Number of training example, Number of features\n",
    "        self.m, self.n = X.shape \n",
    "        \n",
    "        # Weight initialization\n",
    "        \n",
    "        self.W = np.zeros( self.n)\n",
    "        self.b = 0\n",
    "        self.X = X\n",
    "        self.Y = Y\n",
    "        \n",
    "        # Gradient Descent Learning    \n",
    "        for i in range(self.iterations):\n",
    "            self.update_weights()\n",
    "        return self\n",
    "    \n",
    "    # Function to update weights in Gradient Descent\n",
    "    def update_weights(self):\n",
    "        Y_pred = self.predict( self.X)\n",
    "        \n",
    "        # Gradient calculations\n",
    "        dW = - (2 * (self.X.T).dot( self.Y - Y_pred)) / self.m\n",
    "        db = - 2 * np.sum( self.Y - Y_pred) / self.m\n",
    "        \n",
    "        # Weight updates\n",
    "        self.W = self.W - self.learning_rate * dW\n",
    "        self.b = self.b - self.learning_rate * db\n",
    "        \n",
    "        return self\n",
    "    # Hypthetical Function\n",
    "    def predict( self, X):\n",
    "        \n",
    "        return X.dot( self.W) + self.b\n",
    "    "
   ]
  },
  {
   "cell_type": "code",
   "execution_count": 12,
   "metadata": {},
   "outputs": [
    {
     "name": "stdout",
     "output_type": "stream",
     "text": [
      "W=[ 2.05887805 -2.96834798]\n",
      "b=0.19375518396883581\n",
      "MAE = 0.1488, MSE = 0.0392, RMSE = 0.1980\n"
     ]
    }
   ],
   "source": [
    "model = Linear_regression(learning_rate = 0.001, iterations = 10000)\n",
    "model.fit(X, y)\n",
    "h_hat = model.predict(X)\n",
    "print(f'W={model.W}')\n",
    "print(f'b={model.b}')\n",
    "mae = mean_absolute_error(y, h_hat)\n",
    "mse = mean_squared_error(y, h_hat)\n",
    "rmse = np.sqrt(mse)\n",
    "print(f'MAE = {mae:.4f}, MSE = {mse:.4f}, RMSE = {rmse:.4f}')"
   ]
  },
  {
   "cell_type": "code",
   "execution_count": 13,
   "metadata": {},
   "outputs": [
    {
     "name": "stdout",
     "output_type": "stream",
     "text": [
      "MAE = 0.1421, MSE = 0.0388, RMSE = 0.1971\n",
      "w = [ 2.046 -2.975]\n",
      "w0 = 0.292\n",
      "R^2: 0.99955\n"
     ]
    }
   ],
   "source": [
    "model = LinearRegression()\n",
    "model.fit(X, y)\n",
    "h_hat = model.predict(X)\n",
    "mae = mean_absolute_error(y, h_hat)\n",
    "mse = mean_squared_error(y, h_hat)\n",
    "rmse = np.sqrt(mse)\n",
    "print(f'MAE = {mae:.4f}, MSE = {mse:.4f}, RMSE = {rmse:.4f}')\n",
    "print(\"w = \" + str(np.round(model.coef_, 3)))\n",
    "print(\"w0 = \" + str(np.round(model.intercept_, 3)))\n",
    "print(\"R^2: %.5f\" % model.score(X,y))"
   ]
  }
 ],
 "metadata": {
  "kernelspec": {
   "display_name": "Python 3",
   "language": "python",
   "name": "python3"
  },
  "language_info": {
   "codemirror_mode": {
    "name": "ipython",
    "version": 3
   },
   "file_extension": ".py",
   "mimetype": "text/x-python",
   "name": "python",
   "nbconvert_exporter": "python",
   "pygments_lexer": "ipython3",
   "version": "3.10.9"
  }
 },
 "nbformat": 4,
 "nbformat_minor": 2
}
