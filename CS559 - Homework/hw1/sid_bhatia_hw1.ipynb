{
 "cells": [
  {
   "cell_type": "markdown",
   "metadata": {},
   "source": [
    "### CS559 - Homework #1"
   ]
  },
  {
   "cell_type": "markdown",
   "metadata": {},
   "source": [
    "**Author**: Sid Bhatia\n",
    "\n",
    "**Date**: September 7th, 2024\n",
    "\n",
    "**Pledge**: I pledge my honor that I have abided by the Stevens Honor System.\n",
    "\n",
    "**Professor**: Dr. In Suk Jang"
   ]
  },
  {
   "cell_type": "markdown",
   "metadata": {},
   "source": [
    "#### 1. Linear Regression Modification [40 pts]"
   ]
  },
  {
   "cell_type": "markdown",
   "metadata": {},
   "source": [
    "In the lecture, the linear regression algorithm, `Linear_Regression(learning_rate, iteration)`, was implemented to solve a weight vector in a gradient descent fashion. In this assignment, we will modify the linear regression that optimizes the weights via stochastic gradient descent and predict the house price of the unit area."
   ]
  },
  {
   "cell_type": "markdown",
   "metadata": {},
   "source": [
    "a. Load the provided data set as follows.\n",
    "\n",
    "```python\n",
    "import pandas as pd\n",
    "df = pd.read_csv('./Realestate.csv')\n",
    "```"
   ]
  },
  {
   "cell_type": "code",
   "execution_count": 1,
   "metadata": {},
   "outputs": [],
   "source": [
    "import pandas as pd\n",
    "df = pd.read_csv('./Realestate.csv')"
   ]
  },
  {
   "cell_type": "markdown",
   "metadata": {},
   "source": [
    "b. [5pts] Standardize the data using each feature’s mean $\\mu$ and standard deviation $\\sigma_i$ as shown below:\n",
    "\n",
    "$$\n",
    "x_{i, \\text{std}} = \\frac{x_i - \\mu_i}{\\sigma_i}\n",
    "$$\n",
    "\n",
    "where $i$ is the feature index. Standardize the target variable as well. The standardized data set will be used for the following questions."
   ]
  },
  {
   "cell_type": "code",
   "execution_count": 22,
   "metadata": {},
   "outputs": [
    {
     "name": "stdout",
     "output_type": "stream",
     "text": [
      "   No  X1 transaction date  X2 house age  \\\n",
      "0   1             2012.917          32.0   \n",
      "1   2             2012.917          19.5   \n",
      "2   3             2013.583          13.3   \n",
      "3   4             2013.500          13.3   \n",
      "4   5             2012.833           5.0   \n",
      "\n",
      "   X3 distance to the nearest MRT station  X4 number of convenience stores  \\\n",
      "0                                84.87882                               10   \n",
      "1                               306.59470                                9   \n",
      "2                               561.98450                                5   \n",
      "3                               561.98450                                5   \n",
      "4                               390.56840                                5   \n",
      "\n",
      "   X5 latitude  X6 longitude  Y house price of unit area  \n",
      "0     24.98298     121.54024                        37.9  \n",
      "1     24.98034     121.53951                        42.2  \n",
      "2     24.98746     121.54391                        47.3  \n",
      "3     24.98746     121.54391                        54.8  \n",
      "4     24.97937     121.54245                        43.1  \n",
      "['No', 'X1 transaction date', 'X2 house age', 'X3 distance to the nearest MRT station', 'X4 number of convenience stores', 'X5 latitude', 'X6 longitude', 'Y house price of unit area']\n",
      "Y house price of unit area\n"
     ]
    }
   ],
   "source": [
    "# View overhead of DataFrame.\n",
    "print(df.head())\n",
    "\n",
    "# Retrieve column names and parse as a list.\n",
    "col_names = df.columns.values.tolist()\n",
    "\n",
    "# View column names.\n",
    "print(col_names)\n",
    "\n",
    "# Retrieve target variable name.\n",
    "target = col_names[-1]\n",
    "\n",
    "print(target)"
   ]
  },
  {
   "cell_type": "code",
   "execution_count": 29,
   "metadata": {},
   "outputs": [
    {
     "name": "stdout",
     "output_type": "stream",
     "text": [
      "         No  X1 transaction date  X2 house age  \\\n",
      "0 -1.725784            -0.822688      1.254111   \n",
      "1 -1.717427            -0.822688      0.156896   \n",
      "2 -1.709069             1.539289     -0.387322   \n",
      "3 -1.700712             1.244928     -0.387322   \n",
      "4 -1.692355            -1.120595     -1.115873   \n",
      "\n",
      "   X3 distance to the nearest MRT station  X4 number of convenience stores  \\\n",
      "0                               -0.791537                         2.004982   \n",
      "1                               -0.615866                         1.665488   \n",
      "2                               -0.413515                         0.307513   \n",
      "3                               -0.413515                         0.307513   \n",
      "4                               -0.549332                         0.307513   \n",
      "\n",
      "   X5 latitude  X6 longitude  Y house price of unit area  \n",
      "0     1.124070      0.448220                   -0.005894  \n",
      "1     0.911342      0.400654                    0.310132  \n",
      "2     1.485063      0.687352                    0.684953  \n",
      "3     1.485063      0.687352                    1.236161  \n",
      "4     0.833180      0.592220                    0.376277  \n"
     ]
    }
   ],
   "source": [
    "# Separate features and target.\n",
    "features = df.drop(columns=['Y house price of unit area'])\n",
    "target = df['Y house price of unit area']\n",
    "\n",
    "# Standardized features and target.\n",
    "features_stand = (features - features.mean()) / features.std()\n",
    "\n",
    "target_stand = (target - target.mean()) / target.std()\n",
    "\n",
    "# print(features_stand.head())\n",
    "\n",
    "# df_merged = features_stand.append(target_stand) DEPRECIATED\n",
    "\n",
    "df_stand = pd.concat([features_stand, target_stand.rename('Y house price of unit area')], axis = 1)\n",
    "\n",
    "print(df_stand.head())"
   ]
  },
  {
   "cell_type": "markdown",
   "metadata": {},
   "source": [
    "c. [5pts] Using `Scikit-Learn Linear Regression`, predict the target and report the Root Mean Square Error Value (RMSE)."
   ]
  },
  {
   "cell_type": "code",
   "execution_count": 41,
   "metadata": {},
   "outputs": [
    {
     "name": "stdout",
     "output_type": "stream",
     "text": [
      "0.9763980529809705\n"
     ]
    }
   ],
   "source": [
    "from sklearn.linear_model import LinearRegression\n",
    "from sklearn.metrics import mean_squared_error\n",
    "\n",
    "import numpy as np\n",
    "\n",
    "# Define feature and target variable.\n",
    "X = df_stand[['X2 house age']]\n",
    "y = df_stand[['Y house price of unit area']]\n",
    "\n",
    "# Create Linear Regression model and fit it.\n",
    "model = LinearRegression()\n",
    "\n",
    "# Fit Linear Regression model.\n",
    "model.fit(X, y)\n",
    "\n",
    "# Establish y_hat to predict on training set.\n",
    "y_hat = model.predict(X)\n",
    "\n",
    "# Retrieve mean squared error.\n",
    "mse = mean_squared_error(y, y_hat)\n",
    "\n",
    "# Calculate root mean squared error.\n",
    "rmse = np.sqrt(mse)\n",
    "\n",
    "print(rmse)"
   ]
  },
  {
   "cell_type": "markdown",
   "metadata": {},
   "source": [
    "d. Using the `NumPy Linear_Regression()` implemented in the lecture, predict the target and report the RMSE value. Tune learning rate $\\eta$ and the iteration number so the RMSE value is not more than $10\\%$ of the RMSE value from the Scikit-learn Linear Regression result. Report the final RMSE and $\\eta$ values."
   ]
  }
 ],
 "metadata": {
  "kernelspec": {
   "display_name": "Python 3",
   "language": "python",
   "name": "python3"
  },
  "language_info": {
   "codemirror_mode": {
    "name": "ipython",
    "version": 3
   },
   "file_extension": ".py",
   "mimetype": "text/x-python",
   "name": "python",
   "nbconvert_exporter": "python",
   "pygments_lexer": "ipython3",
   "version": "3.12.2"
  }
 },
 "nbformat": 4,
 "nbformat_minor": 2
}
